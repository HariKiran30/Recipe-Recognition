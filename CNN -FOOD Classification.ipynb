{
 "cells": [
  {
   "cell_type": "code",
   "execution_count": 1,
   "metadata": {},
   "outputs": [
    {
     "name": "stderr",
     "output_type": "stream",
     "text": [
      "C:\\Users\\HARI\\anaconda3\\lib\\site-packages\\scipy\\__init__.py:155: UserWarning: A NumPy version >=1.18.5 and <1.25.0 is required for this version of SciPy (detected version 1.26.4\n",
      "  warnings.warn(f\"A NumPy version >={np_minversion} and <{np_maxversion}\"\n"
     ]
    },
    {
     "name": "stdout",
     "output_type": "stream",
     "text": [
      "WARNING:tensorflow:From C:\\Users\\HARI\\anaconda3\\lib\\site-packages\\keras\\src\\losses.py:2976: The name tf.losses.sparse_softmax_cross_entropy is deprecated. Please use tf.compat.v1.losses.sparse_softmax_cross_entropy instead.\n",
      "\n"
     ]
    }
   ],
   "source": [
    "import numpy as np#used for numerical analysis\n",
    "import tensorflow #open source used for both ML and DL for computation\n",
    "from tensorflow.keras.models import Sequential #it is a plain stack of layers\n",
    "from tensorflow.keras import layers #A layer consists of a tensor-in tensor-out computation function\n",
    "#Dense layer is the regular deeply connected neural network layer\n",
    "from tensorflow.keras.layers import Dense,Flatten\n",
    "#Faltten-used fot flattening the input or change the dimension\n",
    "from tensorflow.keras.layers import Conv2D,MaxPooling2D #Convolutional layer\n",
    "#MaxPooling2D-for downsampling the image\n",
    "from keras.preprocessing.image import ImageDataGenerator\n"
   ]
  },
  {
   "cell_type": "code",
   "execution_count": 2,
   "metadata": {},
   "outputs": [],
   "source": [
    "#setting parameter for Image Data agumentation to the traing data\n",
    "train_datagen=ImageDataGenerator(rescale=1./255,shear_range=0.2,zoom_range=0.2,horizontal_flip=True)"
   ]
  },
  {
   "cell_type": "code",
   "execution_count": 3,
   "metadata": {},
   "outputs": [],
   "source": [
    "#Image Data agumentation to the testing data\n",
    "test_datagen=ImageDataGenerator(rescale=1./255)"
   ]
  },
  {
   "cell_type": "code",
   "execution_count": 4,
   "metadata": {},
   "outputs": [],
   "source": [
    "# Image Data augmentation for the validation data\n",
    "valid_datagen = ImageDataGenerator(rescale=1./255)"
   ]
  },
  {
   "cell_type": "code",
   "execution_count": 5,
   "metadata": {
    "scrolled": true
   },
   "outputs": [
    {
     "name": "stdout",
     "output_type": "stream",
     "text": [
      "Found 2692 images belonging to 6 classes.\n",
      "Found 703 images belonging to 6 classes.\n",
      "Found 245 images belonging to 6 classes.\n"
     ]
    }
   ],
   "source": [
    "#performing data agumentation to train data\n",
    "x_train=train_datagen.flow_from_directory(directory=r'C:/Users/HARI/Desktop/CAPSTONE/CODE/MyTrail/Dataset/training_set'\n",
    "                                          ,target_size=(64,64),batch_size=32,class_mode='categorical')\n",
    "#performing data agumentation to test data\n",
    "x_test=test_datagen.flow_from_directory(directory=r'C:/Users/HARI/Desktop/CAPSTONE/CODE/MyTrail/Dataset/test_set'\n",
    "                                        ,target_size=(64,64),batch_size=32,class_mode='categorical')\n",
    "#performing data agumentation to Valid data\n",
    "x_valid =valid_datagen.flow_from_directory(directory=r'C:/Users/HARI/Desktop/CAPSTONE/CODE/MyTrail/Dataset/valid_set', \n",
    "                                            target_size=(64,64), batch_size=32, class_mode='categorical')\n"
   ]
  },
  {
   "cell_type": "code",
   "execution_count": 53,
   "metadata": {},
   "outputs": [
    {
     "name": "stdout",
     "output_type": "stream",
     "text": [
      "{'Paneer': 0, 'Potato': 1, 'Vada_pav': 2, 'french_fries': 3, 'pizza': 4, 'samosa': 5}\n"
     ]
    }
   ],
   "source": [
    "print(x_train.class_indices)#checking the number of classes"
   ]
  },
  {
   "cell_type": "code",
   "execution_count": 54,
   "metadata": {},
   "outputs": [
    {
     "name": "stdout",
     "output_type": "stream",
     "text": [
      "{'Paneer': 0, 'Potato': 1, 'Vada_pav': 2, 'french_fries': 3, 'pizza': 4, 'samosa': 5}\n"
     ]
    }
   ],
   "source": [
    "print(x_test.class_indices)#checking the number of classes"
   ]
  },
  {
   "cell_type": "code",
   "execution_count": 55,
   "metadata": {},
   "outputs": [
    {
     "name": "stdout",
     "output_type": "stream",
     "text": [
      "{'Paneer': 0, 'Potato': 1, 'Vada_pav': 2, 'french_fries': 3, 'pizza': 4, 'samosa': 5}\n"
     ]
    }
   ],
   "source": [
    "print(x_valid.class_indices)#checking the number of classes"
   ]
  },
  {
   "cell_type": "code",
   "execution_count": 56,
   "metadata": {},
   "outputs": [
    {
     "data": {
      "text/plain": [
       "Counter({0: 100, 1: 72, 2: 102, 3: 804, 4: 804, 5: 810})"
      ]
     },
     "execution_count": 56,
     "metadata": {},
     "output_type": "execute_result"
    }
   ],
   "source": [
    "from collections import Counter as c\n",
    "c(x_train.labels)"
   ]
  },
  {
   "cell_type": "code",
   "execution_count": 57,
   "metadata": {},
   "outputs": [],
   "source": [
    "# create model\n",
    "model=Sequential()\n",
    "# adding model layer\n",
    "model.add(Conv2D(32,(3,3),input_shape=(64,64,3),activation='relu'))#convolutional layer\n",
    "model.add(MaxPooling2D(pool_size=(2,2))) #MaxPooling2D-for downsampling the input\n",
    "\n",
    "model.add(Conv2D(32,(3,3),activation='relu'))\n",
    "model.add(MaxPooling2D(pool_size=(2,2)))\n",
    "#model.add(Dropout(0.2))#droping input randomly for preventing from overfiting\n",
    "\n",
    "\n",
    "model.add(Flatten())#flatten the dimension of the image\n",
    "model.add(Dense(32))#deeply connected neural network layers.\n",
    "model.add(Dense(6,activation='softmax'))#output layer with 3 neurons\n"
   ]
  },
  {
   "cell_type": "code",
   "execution_count": 58,
   "metadata": {},
   "outputs": [
    {
     "name": "stdout",
     "output_type": "stream",
     "text": [
      "Model: \"sequential_4\"\n",
      "_________________________________________________________________\n",
      " Layer (type)                Output Shape              Param #   \n",
      "=================================================================\n",
      " conv2d_8 (Conv2D)           (None, 62, 62, 32)        896       \n",
      "                                                                 \n",
      " max_pooling2d_8 (MaxPoolin  (None, 31, 31, 32)        0         \n",
      " g2D)                                                            \n",
      "                                                                 \n",
      " conv2d_9 (Conv2D)           (None, 29, 29, 32)        9248      \n",
      "                                                                 \n",
      " max_pooling2d_9 (MaxPoolin  (None, 14, 14, 32)        0         \n",
      " g2D)                                                            \n",
      "                                                                 \n",
      " flatten_4 (Flatten)         (None, 6272)              0         \n",
      "                                                                 \n",
      " dense_8 (Dense)             (None, 32)                200736    \n",
      "                                                                 \n",
      " dense_9 (Dense)             (None, 6)                 198       \n",
      "                                                                 \n",
      "=================================================================\n",
      "Total params: 211078 (824.52 KB)\n",
      "Trainable params: 211078 (824.52 KB)\n",
      "Non-trainable params: 0 (0.00 Byte)\n",
      "_________________________________________________________________\n"
     ]
    }
   ],
   "source": [
    "model.summary()#summary of our model"
   ]
  },
  {
   "cell_type": "code",
   "execution_count": 59,
   "metadata": {
    "scrolled": true
   },
   "outputs": [],
   "source": [
    "# Compile model\n",
    "model.compile(optimizer='adam',loss='categorical_crossentropy',metrics=['accuracy'])"
   ]
  },
  {
   "cell_type": "code",
   "execution_count": 60,
   "metadata": {},
   "outputs": [],
   "source": [
    "# from keras.callbacks import ModelCheckpoint\n",
    "\n",
    "# # specify the path to save the best model\n",
    "# checkpoint_filepath = 'C:/Users/HARI/Desktop/CAPSTONE/CODE/MyTrail/Classification_Models/Check Points/CNN'\n",
    "\n",
    "# # create a ModelCheckpoint callback\n",
    "# model_checkpoint_callback = ModelCheckpoint(\n",
    "#     filepath=checkpoint_filepath,\n",
    "#     save_weights_only=True,\n",
    "#     monitor='val_accuracy',\n",
    "#     mode='max',\n",
    "#     save_best_only=True)\n"
   ]
  },
  {
   "cell_type": "code",
   "execution_count": 61,
   "metadata": {},
   "outputs": [
    {
     "name": "stdout",
     "output_type": "stream",
     "text": [
      "Epoch 1/80\n",
      "85/85 [==============================] - 61s 698ms/step - loss: 1.4267 - accuracy: 0.3808 - val_loss: 1.6638 - val_accuracy: 0.3184\n",
      "Epoch 2/80\n",
      "85/85 [==============================] - 63s 744ms/step - loss: 1.1957 - accuracy: 0.5059 - val_loss: 1.3508 - val_accuracy: 0.4776\n",
      "Epoch 3/80\n",
      "85/85 [==============================] - 54s 632ms/step - loss: 1.0653 - accuracy: 0.5669 - val_loss: 1.3668 - val_accuracy: 0.4735\n",
      "Epoch 4/80\n",
      "85/85 [==============================] - 57s 674ms/step - loss: 1.0246 - accuracy: 0.5914 - val_loss: 1.2817 - val_accuracy: 0.4939\n",
      "Epoch 5/80\n",
      "85/85 [==============================] - 31s 361ms/step - loss: 0.9690 - accuracy: 0.6092 - val_loss: 1.0775 - val_accuracy: 0.5837\n",
      "Epoch 6/80\n",
      "85/85 [==============================] - 29s 339ms/step - loss: 0.8887 - accuracy: 0.6542 - val_loss: 1.1861 - val_accuracy: 0.5633\n",
      "Epoch 7/80\n",
      "85/85 [==============================] - 30s 348ms/step - loss: 0.8270 - accuracy: 0.6850 - val_loss: 1.0464 - val_accuracy: 0.5918\n",
      "Epoch 8/80\n",
      "85/85 [==============================] - 26s 300ms/step - loss: 0.8832 - accuracy: 0.6456 - val_loss: 1.0764 - val_accuracy: 0.6000\n",
      "Epoch 9/80\n",
      "85/85 [==============================] - 24s 281ms/step - loss: 0.7963 - accuracy: 0.6965 - val_loss: 1.1002 - val_accuracy: 0.6122\n",
      "Epoch 10/80\n",
      "85/85 [==============================] - 26s 309ms/step - loss: 0.7541 - accuracy: 0.7143 - val_loss: 1.1124 - val_accuracy: 0.6000\n",
      "Epoch 11/80\n",
      "85/85 [==============================] - 27s 322ms/step - loss: 0.7682 - accuracy: 0.7002 - val_loss: 1.2096 - val_accuracy: 0.5673\n",
      "Epoch 12/80\n",
      "85/85 [==============================] - 31s 370ms/step - loss: 0.6638 - accuracy: 0.7582 - val_loss: 0.9568 - val_accuracy: 0.6653\n",
      "Epoch 13/80\n",
      "85/85 [==============================] - 26s 306ms/step - loss: 0.6916 - accuracy: 0.7426 - val_loss: 0.9887 - val_accuracy: 0.6776\n",
      "Epoch 14/80\n",
      "85/85 [==============================] - 25s 295ms/step - loss: 0.6752 - accuracy: 0.7381 - val_loss: 1.0203 - val_accuracy: 0.6694\n",
      "Epoch 15/80\n",
      "85/85 [==============================] - 25s 293ms/step - loss: 0.6276 - accuracy: 0.7589 - val_loss: 0.9741 - val_accuracy: 0.6980\n",
      "Epoch 16/80\n",
      "85/85 [==============================] - 25s 297ms/step - loss: 0.5811 - accuracy: 0.7823 - val_loss: 0.9486 - val_accuracy: 0.6531\n",
      "Epoch 17/80\n",
      "85/85 [==============================] - 28s 329ms/step - loss: 0.5581 - accuracy: 0.7827 - val_loss: 1.0513 - val_accuracy: 0.6490\n",
      "Epoch 18/80\n",
      "85/85 [==============================] - 31s 363ms/step - loss: 0.5632 - accuracy: 0.7790 - val_loss: 1.1454 - val_accuracy: 0.6571\n",
      "Epoch 19/80\n",
      "85/85 [==============================] - 26s 310ms/step - loss: 0.5314 - accuracy: 0.8065 - val_loss: 0.9727 - val_accuracy: 0.6571\n",
      "Epoch 20/80\n",
      "85/85 [==============================] - 30s 357ms/step - loss: 0.5411 - accuracy: 0.7994 - val_loss: 0.9689 - val_accuracy: 0.6898\n",
      "Epoch 21/80\n",
      "85/85 [==============================] - 31s 367ms/step - loss: 0.5568 - accuracy: 0.7957 - val_loss: 0.9775 - val_accuracy: 0.7061\n",
      "Epoch 22/80\n",
      "85/85 [==============================] - 31s 367ms/step - loss: 0.4964 - accuracy: 0.8143 - val_loss: 0.8534 - val_accuracy: 0.7184\n",
      "Epoch 23/80\n",
      "85/85 [==============================] - 41s 483ms/step - loss: 0.4810 - accuracy: 0.8187 - val_loss: 0.9398 - val_accuracy: 0.7265\n",
      "Epoch 24/80\n",
      "85/85 [==============================] - 31s 366ms/step - loss: 0.4705 - accuracy: 0.8139 - val_loss: 1.0802 - val_accuracy: 0.6367\n",
      "Epoch 25/80\n",
      "85/85 [==============================] - 26s 303ms/step - loss: 0.4307 - accuracy: 0.8432 - val_loss: 0.9337 - val_accuracy: 0.7020\n",
      "Epoch 26/80\n",
      "85/85 [==============================] - 29s 338ms/step - loss: 0.4166 - accuracy: 0.8429 - val_loss: 1.0705 - val_accuracy: 0.6735\n",
      "Epoch 27/80\n",
      "85/85 [==============================] - 24s 283ms/step - loss: 0.4281 - accuracy: 0.8343 - val_loss: 1.0094 - val_accuracy: 0.7224\n",
      "Epoch 28/80\n",
      "85/85 [==============================] - 26s 302ms/step - loss: 0.3910 - accuracy: 0.8629 - val_loss: 0.9921 - val_accuracy: 0.7306\n",
      "Epoch 29/80\n",
      "85/85 [==============================] - 31s 365ms/step - loss: 0.3982 - accuracy: 0.8496 - val_loss: 0.8486 - val_accuracy: 0.7510\n",
      "Epoch 30/80\n",
      "85/85 [==============================] - 28s 325ms/step - loss: 0.3760 - accuracy: 0.8544 - val_loss: 0.9278 - val_accuracy: 0.7551\n",
      "Epoch 31/80\n",
      "85/85 [==============================] - 27s 314ms/step - loss: 0.3729 - accuracy: 0.8692 - val_loss: 0.9754 - val_accuracy: 0.7429\n",
      "Epoch 32/80\n",
      "85/85 [==============================] - 24s 286ms/step - loss: 0.3395 - accuracy: 0.8744 - val_loss: 1.0169 - val_accuracy: 0.7224\n",
      "Epoch 33/80\n",
      "85/85 [==============================] - 28s 332ms/step - loss: 0.3569 - accuracy: 0.8678 - val_loss: 1.0078 - val_accuracy: 0.7224\n",
      "Epoch 34/80\n",
      "85/85 [==============================] - 26s 308ms/step - loss: 0.3316 - accuracy: 0.8744 - val_loss: 1.1001 - val_accuracy: 0.7143\n",
      "Epoch 35/80\n",
      "85/85 [==============================] - 26s 310ms/step - loss: 0.3679 - accuracy: 0.8629 - val_loss: 0.8831 - val_accuracy: 0.7265\n",
      "Epoch 36/80\n",
      "85/85 [==============================] - 27s 315ms/step - loss: 0.3471 - accuracy: 0.8700 - val_loss: 0.9945 - val_accuracy: 0.7469\n",
      "Epoch 37/80\n",
      "85/85 [==============================] - 30s 353ms/step - loss: 0.3212 - accuracy: 0.8830 - val_loss: 1.0041 - val_accuracy: 0.7347\n",
      "Epoch 38/80\n",
      "85/85 [==============================] - 27s 320ms/step - loss: 0.3261 - accuracy: 0.8778 - val_loss: 1.0839 - val_accuracy: 0.7224\n",
      "Epoch 39/80\n",
      "85/85 [==============================] - 29s 340ms/step - loss: 0.3000 - accuracy: 0.8897 - val_loss: 0.9504 - val_accuracy: 0.7388\n",
      "Epoch 40/80\n",
      "85/85 [==============================] - 27s 323ms/step - loss: 0.2993 - accuracy: 0.8886 - val_loss: 0.9313 - val_accuracy: 0.7673\n",
      "Epoch 41/80\n",
      "85/85 [==============================] - 25s 296ms/step - loss: 0.3036 - accuracy: 0.8871 - val_loss: 0.9696 - val_accuracy: 0.7184\n",
      "Epoch 42/80\n",
      "85/85 [==============================] - 24s 277ms/step - loss: 0.3144 - accuracy: 0.8804 - val_loss: 0.9030 - val_accuracy: 0.7388\n",
      "Epoch 43/80\n",
      "85/85 [==============================] - 20s 239ms/step - loss: 0.3044 - accuracy: 0.8878 - val_loss: 1.0876 - val_accuracy: 0.7633\n",
      "Epoch 44/80\n",
      "85/85 [==============================] - 22s 256ms/step - loss: 0.2855 - accuracy: 0.8993 - val_loss: 1.1924 - val_accuracy: 0.7388\n",
      "Epoch 45/80\n",
      "85/85 [==============================] - 20s 241ms/step - loss: 0.2869 - accuracy: 0.8852 - val_loss: 1.3229 - val_accuracy: 0.7184\n",
      "Epoch 46/80\n",
      "85/85 [==============================] - 19s 230ms/step - loss: 0.2802 - accuracy: 0.8900 - val_loss: 1.0369 - val_accuracy: 0.7184\n",
      "Epoch 47/80\n",
      "85/85 [==============================] - 19s 228ms/step - loss: 0.2781 - accuracy: 0.9012 - val_loss: 1.1827 - val_accuracy: 0.7306\n",
      "Epoch 48/80\n",
      "85/85 [==============================] - 20s 233ms/step - loss: 0.2514 - accuracy: 0.9123 - val_loss: 1.1873 - val_accuracy: 0.7510\n",
      "Epoch 49/80\n",
      "85/85 [==============================] - 22s 260ms/step - loss: 0.2352 - accuracy: 0.9157 - val_loss: 1.1584 - val_accuracy: 0.7429\n",
      "Epoch 50/80\n",
      "85/85 [==============================] - 24s 280ms/step - loss: 0.2410 - accuracy: 0.9086 - val_loss: 1.1788 - val_accuracy: 0.7265\n",
      "Epoch 51/80\n",
      "85/85 [==============================] - 22s 258ms/step - loss: 0.2710 - accuracy: 0.8986 - val_loss: 1.1734 - val_accuracy: 0.7306\n",
      "Epoch 52/80\n",
      "85/85 [==============================] - 20s 241ms/step - loss: 0.2113 - accuracy: 0.9190 - val_loss: 1.4046 - val_accuracy: 0.7020\n",
      "Epoch 53/80\n",
      "85/85 [==============================] - 20s 233ms/step - loss: 0.2643 - accuracy: 0.9071 - val_loss: 1.3206 - val_accuracy: 0.7510\n",
      "Epoch 54/80\n",
      "85/85 [==============================] - 28s 324ms/step - loss: 0.2229 - accuracy: 0.9142 - val_loss: 1.2284 - val_accuracy: 0.7143\n",
      "Epoch 55/80\n",
      "85/85 [==============================] - 27s 318ms/step - loss: 0.2281 - accuracy: 0.9164 - val_loss: 1.3971 - val_accuracy: 0.7388\n",
      "Epoch 56/80\n",
      "85/85 [==============================] - 25s 294ms/step - loss: 0.2249 - accuracy: 0.9172 - val_loss: 1.2660 - val_accuracy: 0.7306\n",
      "Epoch 57/80\n",
      "85/85 [==============================] - 19s 227ms/step - loss: 0.2502 - accuracy: 0.9105 - val_loss: 1.1786 - val_accuracy: 0.7388\n"
     ]
    },
    {
     "name": "stdout",
     "output_type": "stream",
     "text": [
      "Epoch 58/80\n",
      "85/85 [==============================] - 25s 298ms/step - loss: 0.2139 - accuracy: 0.9220 - val_loss: 1.1965 - val_accuracy: 0.7388\n",
      "Epoch 59/80\n",
      "85/85 [==============================] - 22s 259ms/step - loss: 0.2044 - accuracy: 0.9257 - val_loss: 1.1899 - val_accuracy: 0.7184\n",
      "Epoch 60/80\n",
      "85/85 [==============================] - 18s 216ms/step - loss: 0.2273 - accuracy: 0.9172 - val_loss: 1.1344 - val_accuracy: 0.7469\n",
      "Epoch 61/80\n",
      "85/85 [==============================] - 19s 225ms/step - loss: 0.1985 - accuracy: 0.9253 - val_loss: 1.2879 - val_accuracy: 0.7306\n",
      "Epoch 62/80\n",
      "85/85 [==============================] - 19s 220ms/step - loss: 0.2827 - accuracy: 0.8967 - val_loss: 1.6570 - val_accuracy: 0.6857\n",
      "Epoch 63/80\n",
      "85/85 [==============================] - 18s 213ms/step - loss: 0.2050 - accuracy: 0.9261 - val_loss: 1.1603 - val_accuracy: 0.7592\n",
      "Epoch 64/80\n",
      "85/85 [==============================] - 20s 236ms/step - loss: 0.1736 - accuracy: 0.9406 - val_loss: 1.2307 - val_accuracy: 0.7633\n",
      "Epoch 65/80\n",
      "85/85 [==============================] - 19s 218ms/step - loss: 0.1965 - accuracy: 0.9276 - val_loss: 1.5534 - val_accuracy: 0.7306\n",
      "Epoch 66/80\n",
      "85/85 [==============================] - 18s 214ms/step - loss: 0.1982 - accuracy: 0.9279 - val_loss: 1.5282 - val_accuracy: 0.7347\n",
      "Epoch 67/80\n",
      "85/85 [==============================] - 17s 205ms/step - loss: 0.2009 - accuracy: 0.9279 - val_loss: 1.3268 - val_accuracy: 0.7265\n",
      "Epoch 68/80\n",
      "85/85 [==============================] - 17s 205ms/step - loss: 0.1826 - accuracy: 0.9316 - val_loss: 1.4373 - val_accuracy: 0.6980\n",
      "Epoch 69/80\n",
      "85/85 [==============================] - 20s 231ms/step - loss: 0.1904 - accuracy: 0.9302 - val_loss: 1.3893 - val_accuracy: 0.7510\n",
      "Epoch 70/80\n",
      "85/85 [==============================] - 18s 217ms/step - loss: 0.1847 - accuracy: 0.9283 - val_loss: 1.3658 - val_accuracy: 0.7306\n",
      "Epoch 71/80\n",
      "85/85 [==============================] - 19s 223ms/step - loss: 0.1922 - accuracy: 0.9238 - val_loss: 1.3205 - val_accuracy: 0.7429\n",
      "Epoch 72/80\n",
      "85/85 [==============================] - 19s 222ms/step - loss: 0.1845 - accuracy: 0.9324 - val_loss: 1.2253 - val_accuracy: 0.7551\n",
      "Epoch 73/80\n",
      "85/85 [==============================] - 18s 211ms/step - loss: 0.1759 - accuracy: 0.9372 - val_loss: 1.3015 - val_accuracy: 0.7755\n",
      "Epoch 74/80\n",
      "85/85 [==============================] - 19s 227ms/step - loss: 0.2613 - accuracy: 0.9049 - val_loss: 1.5292 - val_accuracy: 0.7306\n",
      "Epoch 75/80\n",
      "85/85 [==============================] - 23s 273ms/step - loss: 0.2013 - accuracy: 0.9264 - val_loss: 1.4391 - val_accuracy: 0.7551\n",
      "Epoch 76/80\n",
      "85/85 [==============================] - 19s 222ms/step - loss: 0.1867 - accuracy: 0.9287 - val_loss: 1.3083 - val_accuracy: 0.7347\n",
      "Epoch 77/80\n",
      "85/85 [==============================] - 18s 215ms/step - loss: 0.1533 - accuracy: 0.9402 - val_loss: 1.3667 - val_accuracy: 0.7143\n",
      "Epoch 78/80\n",
      "85/85 [==============================] - 18s 215ms/step - loss: 0.1609 - accuracy: 0.9458 - val_loss: 1.4885 - val_accuracy: 0.7184\n",
      "Epoch 79/80\n",
      "85/85 [==============================] - 19s 217ms/step - loss: 0.1867 - accuracy: 0.9346 - val_loss: 1.6332 - val_accuracy: 0.7388\n",
      "Epoch 80/80\n",
      "85/85 [==============================] - 18s 206ms/step - loss: 0.2148 - accuracy: 0.9138 - val_loss: 1.2901 - val_accuracy: 0.7429\n"
     ]
    },
    {
     "data": {
      "text/plain": [
       "<keras.src.callbacks.History at 0x226d394db80>"
      ]
     },
     "execution_count": 61,
     "metadata": {},
     "output_type": "execute_result"
    }
   ],
   "source": [
    "# # Fit the model\n",
    "# model.fit(x_train, steps_per_epoch=len(x_train), epochs=80, \n",
    "#           validation_data=x_valid, validation_steps=len(x_valid),\n",
    "#           callbacks=[model_checkpoint_callback])"
   ]
  },
  {
   "cell_type": "code",
   "execution_count": 70,
   "metadata": {},
   "outputs": [
    {
     "name": "stdout",
     "output_type": "stream",
     "text": [
      "Epoch 1/20\n",
      "85/85 [==============================] - 21s 252ms/step - loss: 0.1674 - accuracy: 0.9309 - val_loss: 1.3332 - val_accuracy: 0.7224\n",
      "Epoch 2/20\n",
      "85/85 [==============================] - 23s 277ms/step - loss: 0.1850 - accuracy: 0.9320 - val_loss: 1.3434 - val_accuracy: 0.7347\n",
      "Epoch 3/20\n",
      "85/85 [==============================] - 23s 276ms/step - loss: 0.1900 - accuracy: 0.9313 - val_loss: 1.2191 - val_accuracy: 0.7224\n",
      "Epoch 4/20\n",
      "85/85 [==============================] - 21s 252ms/step - loss: 0.1513 - accuracy: 0.9458 - val_loss: 1.1902 - val_accuracy: 0.7592\n",
      "Epoch 5/20\n",
      "85/85 [==============================] - 19s 228ms/step - loss: 0.1501 - accuracy: 0.9450 - val_loss: 1.4641 - val_accuracy: 0.7755\n",
      "Epoch 6/20\n",
      "85/85 [==============================] - 19s 225ms/step - loss: 0.1481 - accuracy: 0.9409 - val_loss: 1.6026 - val_accuracy: 0.7429\n",
      "Epoch 7/20\n",
      "85/85 [==============================] - 19s 219ms/step - loss: 0.1658 - accuracy: 0.9376 - val_loss: 1.2632 - val_accuracy: 0.7551\n",
      "Epoch 8/20\n",
      "85/85 [==============================] - 18s 210ms/step - loss: 0.1753 - accuracy: 0.9339 - val_loss: 1.3315 - val_accuracy: 0.7388\n",
      "Epoch 9/20\n",
      "85/85 [==============================] - 18s 209ms/step - loss: 0.1774 - accuracy: 0.9350 - val_loss: 1.4677 - val_accuracy: 0.7388\n",
      "Epoch 10/20\n",
      "85/85 [==============================] - 21s 244ms/step - loss: 0.1711 - accuracy: 0.9365 - val_loss: 1.3073 - val_accuracy: 0.7714\n",
      "Epoch 11/20\n",
      "85/85 [==============================] - 18s 216ms/step - loss: 0.1715 - accuracy: 0.9365 - val_loss: 1.3171 - val_accuracy: 0.7592\n",
      "Epoch 12/20\n",
      "85/85 [==============================] - 18s 212ms/step - loss: 0.1855 - accuracy: 0.9305 - val_loss: 1.7569 - val_accuracy: 0.6980\n",
      "Epoch 13/20\n",
      "85/85 [==============================] - 18s 215ms/step - loss: 0.1721 - accuracy: 0.9395 - val_loss: 1.6370 - val_accuracy: 0.7306\n",
      "Epoch 14/20\n",
      "85/85 [==============================] - 20s 240ms/step - loss: 0.1389 - accuracy: 0.9491 - val_loss: 1.4389 - val_accuracy: 0.7347\n",
      "Epoch 15/20\n",
      "85/85 [==============================] - 20s 233ms/step - loss: 0.1470 - accuracy: 0.9439 - val_loss: 1.4582 - val_accuracy: 0.7755\n",
      "Epoch 16/20\n",
      "85/85 [==============================] - 18s 216ms/step - loss: 0.1407 - accuracy: 0.9510 - val_loss: 1.4748 - val_accuracy: 0.7347\n",
      "Epoch 17/20\n",
      "85/85 [==============================] - 23s 274ms/step - loss: 0.2150 - accuracy: 0.9227 - val_loss: 1.4801 - val_accuracy: 0.7673\n",
      "Epoch 18/20\n",
      "85/85 [==============================] - 22s 254ms/step - loss: 0.1584 - accuracy: 0.9480 - val_loss: 1.2915 - val_accuracy: 0.7551\n",
      "Epoch 19/20\n",
      "85/85 [==============================] - 21s 243ms/step - loss: 0.1567 - accuracy: 0.9432 - val_loss: 1.5500 - val_accuracy: 0.7918\n",
      "Epoch 20/20\n",
      "85/85 [==============================] - 21s 250ms/step - loss: 0.1667 - accuracy: 0.9402 - val_loss: 1.5029 - val_accuracy: 0.7265\n"
     ]
    },
    {
     "data": {
      "text/plain": [
       "<keras.src.callbacks.History at 0x226d8907a00>"
      ]
     },
     "execution_count": 70,
     "metadata": {},
     "output_type": "execute_result"
    }
   ],
   "source": [
    "# Fit the model\n",
    "model.fit(x_train, steps_per_epoch=len(x_train), epochs=20, \n",
    "          validation_data=x_valid, validation_steps=len(x_valid))\n"
   ]
  },
  {
   "cell_type": "code",
   "execution_count": 71,
   "metadata": {},
   "outputs": [],
   "source": [
    "# # The model weights (that are considered the best) are loaded into the model.\n",
    "# model.load_weights(checkpoint_filepath)"
   ]
  },
  {
   "cell_type": "code",
   "execution_count": null,
   "metadata": {},
   "outputs": [],
   "source": []
  },
  {
   "cell_type": "code",
   "execution_count": 72,
   "metadata": {
    "scrolled": true
   },
   "outputs": [],
   "source": [
    "# Save the model\n",
    "model.save('food_CNN.h5')"
   ]
  },
  {
   "cell_type": "code",
   "execution_count": 76,
   "metadata": {},
   "outputs": [],
   "source": [
    "from tensorflow.keras.models import load_model\n",
    "from keras.preprocessing import image\n",
    "model = load_model(\"food_cnn.h5\") #loading the model for testing"
   ]
  },
  {
   "cell_type": "code",
   "execution_count": 94,
   "metadata": {},
   "outputs": [
    {
     "name": "stdout",
     "output_type": "stream",
     "text": [
      "1/1 [==============================] - 0s 31ms/step\n"
     ]
    },
    {
     "data": {
      "text/plain": [
       "array([2], dtype=int64)"
      ]
     },
     "execution_count": 94,
     "metadata": {},
     "output_type": "execute_result"
    }
   ],
   "source": [
    "img = image.load_img(r\"C:\\Users\\HARI\\Desktop\\CAPSTONE\\CODE\\MyTrail\\Dataset\\test_set\\Vada_pav\\101.jpg\",target_size= (64,64))#loading of the image\n",
    "x = image.img_to_array(img)#image to array\n",
    "x = np.expand_dims(x,axis = 0)#changing the shape\n",
    "#pred = model.predict_classes(x)#predicting the classes\n",
    "pred = np.argmax(model.predict(x), axis=-1)\n",
    "pred"
   ]
  },
  {
   "cell_type": "code",
   "execution_count": 95,
   "metadata": {},
   "outputs": [
    {
     "data": {
      "text/plain": [
       "'Vada_pav'"
      ]
     },
     "execution_count": 95,
     "metadata": {},
     "output_type": "execute_result"
    }
   ],
   "source": [
    "# index=['Potato', 'Paneer', 'Vada_pav', 'french_fries', 'pizza', 'samosa']\n",
    "result=str(index[pred[0]])\n",
    "result"
   ]
  },
  {
   "cell_type": "code",
   "execution_count": 96,
   "metadata": {},
   "outputs": [],
   "source": [
    "from sklearn.metrics import f1_score\n"
   ]
  },
  {
   "cell_type": "code",
   "execution_count": 97,
   "metadata": {},
   "outputs": [
    {
     "name": "stdout",
     "output_type": "stream",
     "text": [
      "1/1 [==============================] - 0s 31ms/step\n"
     ]
    }
   ],
   "source": [
    "pred = np.argmax(model.predict(x), axis=-1)\n"
   ]
  },
  {
   "cell_type": "code",
   "execution_count": 98,
   "metadata": {},
   "outputs": [],
   "source": [
    "true_labels = x_test.labels\n"
   ]
  },
  {
   "cell_type": "code",
   "execution_count": 100,
   "metadata": {},
   "outputs": [
    {
     "name": "stdout",
     "output_type": "stream",
     "text": [
      "703\n",
      "1\n"
     ]
    }
   ],
   "source": [
    "print(len(true_labels))\n",
    "print(len(pred))\n"
   ]
  },
  {
   "cell_type": "code",
   "execution_count": 7,
   "metadata": {},
   "outputs": [
    {
     "ename": "NameError",
     "evalue": "name 'model' is not defined",
     "output_type": "error",
     "traceback": [
      "\u001b[1;31m---------------------------------------------------------------------------\u001b[0m",
      "\u001b[1;31mNameError\u001b[0m                                 Traceback (most recent call last)",
      "\u001b[1;32m~\\AppData\\Local\\Temp\\ipykernel_18640\\915379474.py\u001b[0m in \u001b[0;36m<module>\u001b[1;34m\u001b[0m\n\u001b[0;32m      1\u001b[0m \u001b[1;31m# Generate predictions for test data\u001b[0m\u001b[1;33m\u001b[0m\u001b[1;33m\u001b[0m\u001b[0m\n\u001b[1;32m----> 2\u001b[1;33m \u001b[0mpred\u001b[0m \u001b[1;33m=\u001b[0m \u001b[0mmodel\u001b[0m\u001b[1;33m.\u001b[0m\u001b[0mpredict\u001b[0m\u001b[1;33m(\u001b[0m\u001b[0mx_test\u001b[0m\u001b[1;33m)\u001b[0m\u001b[1;33m\u001b[0m\u001b[1;33m\u001b[0m\u001b[0m\n\u001b[0m\u001b[0;32m      3\u001b[0m \u001b[1;33m\u001b[0m\u001b[0m\n\u001b[0;32m      4\u001b[0m \u001b[1;31m# Convert predictions to class labels\u001b[0m\u001b[1;33m\u001b[0m\u001b[1;33m\u001b[0m\u001b[0m\n\u001b[0;32m      5\u001b[0m \u001b[0mpred_labels\u001b[0m \u001b[1;33m=\u001b[0m \u001b[0mnp\u001b[0m\u001b[1;33m.\u001b[0m\u001b[0margmax\u001b[0m\u001b[1;33m(\u001b[0m\u001b[0mpred\u001b[0m\u001b[1;33m,\u001b[0m \u001b[0maxis\u001b[0m\u001b[1;33m=\u001b[0m\u001b[1;36m1\u001b[0m\u001b[1;33m)\u001b[0m\u001b[1;33m\u001b[0m\u001b[1;33m\u001b[0m\u001b[0m\n",
      "\u001b[1;31mNameError\u001b[0m: name 'model' is not defined"
     ]
    }
   ],
   "source": [
    "# Generate predictions for test data\n",
    "pred = model.predict(x_test)\n",
    "\n",
    "# Convert predictions to class labels\n",
    "pred_labels = np.argmax(pred, axis=1)\n",
    "\n",
    "# Check dimensions and values\n",
    "print(\"True Labels Shape:\", true_labels.shape)\n",
    "print(\"Predictions Shape:\", pred_labels.shape)\n",
    "\n",
    "# Print a few samples\n",
    "print(\"True Labels:\", true_labels[:10])\n",
    "print(\"Predicted Labels:\", pred_labels[:10])\n"
   ]
  },
  {
   "cell_type": "code",
   "execution_count": 107,
   "metadata": {},
   "outputs": [
    {
     "name": "stdout",
     "output_type": "stream",
     "text": [
      "22/22 [==============================] - 4s 152ms/step - loss: 1.1243 - accuracy: 0.7809\n",
      "Test Accuracy: 0.7809388041496277\n"
     ]
    }
   ],
   "source": [
    "# Evaluate the model on the test data\n",
    "loss, accuracy = model.evaluate(x_test, verbose=1)\n",
    "\n",
    "# Print the accuracy\n",
    "print(\"Test Accuracy:\", accuracy)\n"
   ]
  },
  {
   "cell_type": "code",
   "execution_count": 108,
   "metadata": {},
   "outputs": [
    {
     "name": "stdout",
     "output_type": "stream",
     "text": [
      "85/85 [==============================] - 23s 269ms/step - loss: 0.1534 - accuracy: 0.9447\n",
      "Train Accuracy: 0.9446508288383484\n"
     ]
    }
   ],
   "source": [
    "# Evaluate the model on the test data\n",
    "loss, accuracy = model.evaluate(x_train, verbose=1)\n",
    "\n",
    "# Print the accuracy\n",
    "print(\"Train Accuracy:\", accuracy)\n"
   ]
  },
  {
   "cell_type": "code",
   "execution_count": 8,
   "metadata": {},
   "outputs": [
    {
     "name": "stdout",
     "output_type": "stream",
     "text": [
      "WARNING:tensorflow:From C:\\Users\\HARI\\anaconda3\\lib\\site-packages\\keras\\src\\backend.py:1398: The name tf.executing_eagerly_outside_functions is deprecated. Please use tf.compat.v1.executing_eagerly_outside_functions instead.\n",
      "\n",
      "WARNING:tensorflow:From C:\\Users\\HARI\\anaconda3\\lib\\site-packages\\keras\\src\\layers\\pooling\\max_pooling2d.py:161: The name tf.nn.max_pool is deprecated. Please use tf.nn.max_pool2d instead.\n",
      "\n",
      "Found 703 images belonging to 6 classes.\n",
      "22/22 [==============================] - 5s 207ms/step\n",
      "F1 Score: 0.7653305737326396\n"
     ]
    }
   ],
   "source": [
    "from tensorflow.keras.models import load_model\n",
    "from keras.preprocessing import image\n",
    "from sklearn.metrics import f1_score\n",
    "\n",
    "# Load the saved model\n",
    "model = load_model(\"food_CNN.h5\")\n",
    "\n",
    "# Load test data\n",
    "test_data = test_datagen.flow_from_directory(\n",
    "    directory=r'C:/Users/HARI/Desktop/CAPSTONE/CODE/MyTrail/Dataset/test_set',\n",
    "    target_size=(64, 64),\n",
    "    batch_size=32,\n",
    "    class_mode='categorical',\n",
    "    shuffle=False  # Important: Set shuffle to False for correct evaluation\n",
    ")\n",
    "\n",
    "# Generate predictions for test data\n",
    "pred = model.predict(test_data)\n",
    "\n",
    "# Convert predictions to class labels\n",
    "pred_labels = np.argmax(pred, axis=1)\n",
    "\n",
    "# Get true labels from test data generator\n",
    "true_labels = test_data.labels\n",
    "\n",
    "# Calculate F1 score\n",
    "f1 = f1_score(true_labels, pred_labels, average='weighted')\n",
    "\n",
    "print(\"F1 Score:\", f1)\n"
   ]
  },
  {
   "cell_type": "code",
   "execution_count": null,
   "metadata": {},
   "outputs": [],
   "source": []
  }
 ],
 "metadata": {
  "kernelspec": {
   "display_name": "Python 3 (ipykernel)",
   "language": "python",
   "name": "python3"
  },
  "language_info": {
   "codemirror_mode": {
    "name": "ipython",
    "version": 3
   },
   "file_extension": ".py",
   "mimetype": "text/x-python",
   "name": "python",
   "nbconvert_exporter": "python",
   "pygments_lexer": "ipython3",
   "version": "3.9.13"
  }
 },
 "nbformat": 4,
 "nbformat_minor": 4
}
